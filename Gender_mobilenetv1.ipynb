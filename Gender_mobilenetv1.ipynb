{
  "nbformat": 4,
  "nbformat_minor": 0,
  "metadata": {
    "colab": {
      "name": "Gender_mobilenetv1.ipynb",
      "provenance": [],
      "collapsed_sections": []
    },
    "kernelspec": {
      "name": "python3",
      "display_name": "Python 3"
    },
    "language_info": {
      "name": "python"
    },
    "accelerator": "GPU"
  },
  "cells": [
    {
      "cell_type": "code",
      "metadata": {
        "colab": {
          "base_uri": "https://localhost:8080/"
        },
        "id": "T69X3oo5SGiH",
        "outputId": "7062bfab-a9ee-46ee-ff93-387c99302313"
      },
      "source": [
        "!gdown --id 1Y8EOFLIRCcKpe_e0pO03yCAosTRjRMtC"
      ],
      "execution_count": null,
      "outputs": [
        {
          "output_type": "stream",
          "text": [
            "Downloading...\n",
            "From: https://drive.google.com/uc?id=1Y8EOFLIRCcKpe_e0pO03yCAosTRjRMtC\n",
            "To: /content/UTKFace.zip\n",
            "347MB [00:04, 75.8MB/s]\n"
          ],
          "name": "stdout"
        }
      ]
    },
    {
      "cell_type": "code",
      "metadata": {
        "id": "WCB4dhcAS0FY"
      },
      "source": [
        "!unzip -q /content/UTKFace.zip -d data"
      ],
      "execution_count": null,
      "outputs": []
    },
    {
      "cell_type": "code",
      "metadata": {
        "id": "kWaagvdOS6A1"
      },
      "source": [
        "# To download checkpoints, Keras models, TFLite models\n",
        "from google.colab import files\n",
        "import tensorflow as tf\n",
        "import numpy as np\n",
        "import matplotlib.pyplot as plt\n",
        "import os\n",
        "import datetime"
      ],
      "execution_count": null,
      "outputs": []
    },
    {
      "cell_type": "code",
      "metadata": {
        "colab": {
          "base_uri": "https://localhost:8080/"
        },
        "id": "ri_iti5uTA5f",
        "outputId": "84b0f2f6-3ff8-4b0f-e503-fe4af9b11857"
      },
      "source": [
        "n = len(os.listdir('/content/data/UTKFace'))\n",
        "n"
      ],
      "execution_count": null,
      "outputs": [
        {
          "output_type": "execute_result",
          "data": {
            "text/plain": [
              "23708"
            ]
          },
          "metadata": {
            "tags": []
          },
          "execution_count": 4
        }
      ]
    },
    {
      "cell_type": "code",
      "metadata": {
        "id": "lYMAZsuUh_rf"
      },
      "source": [
        "# Image size for our model.\n",
        "MODEL_INPUT_IMAGE_SIZE = [ 128 , 128 ]\n",
        "\n",
        "# Fraction of the dataset to be used for testing.\n",
        "TRAIN_TEST_SPLIT = 0.3\n",
        "\n",
        "# Number of samples to take from dataset\n",
        "NUM_SAMPLES = 20000\n",
        "\n",
        "# Trick to one-hot encode the label.\n",
        "y1 = tf.constant( [ 1. , 0. ] , dtype='float32' ) \n",
        "y2 = tf.constant( [ 0. , 1. ] , dtype='float32' ) \n",
        "\n",
        "# This method will be mapped for each filename in `list_ds`. \n",
        "def parse_image( filename ):\n",
        "\n",
        "    # Read the image from the filename and resize it.\n",
        "    image_raw = tf.io.read_file( filename )\n",
        "    image = tf.image.decode_jpeg( image_raw , channels=3 ) \n",
        "    # image = tf.image.resize( image , MODEL_INPUT_IMAGE_SIZE ) / 255\n",
        "    image = tf.cast(image, tf.float32)\n",
        "    image = tf.image.resize( image , MODEL_INPUT_IMAGE_SIZE )\n",
        "\n",
        "    # Split the filename to get the age and the gender. Convert the age ( str ) and the gender ( str ) to dtype float32.\n",
        "    parts = tf.strings.split( tf.strings.split( filename , '/' )[ 2 ] , '_' )\n",
        "\n",
        "    # One-hot encode the label\n",
        "    gender = tf.strings.to_number( parts[ 1 ] )\n",
        "    gender_onehot = ( gender * y2 ) + ( ( 1 - gender ) * y1 )\n",
        "\n",
        "    return image , gender_onehot\n",
        "\n",
        "# List all the image files in the given directory.\n",
        "list_ds = tf.data.Dataset.list_files( 'data/UTKFace/*' , shuffle=True )\n",
        "# Map `parse_image` method to all filenames.\n",
        "dataset = list_ds.map( parse_image , num_parallel_calls=tf.data.AUTOTUNE )\n",
        "dataset = dataset.take( NUM_SAMPLES )"
      ],
      "execution_count": null,
      "outputs": []
    },
    {
      "cell_type": "code",
      "metadata": {
        "colab": {
          "base_uri": "https://localhost:8080/"
        },
        "id": "TMH6n58xilcc",
        "outputId": "8ae4836b-accf-4b01-d3a6-977fe290fbdc"
      },
      "source": [
        "# Create train and test splits of the dataset.\n",
        "num_examples_in_test_ds = int(dataset.cardinality().numpy() * TRAIN_TEST_SPLIT)\n",
        "\n",
        "test_ds = dataset.take(num_examples_in_test_ds)\n",
        "train_ds = dataset.skip(num_examples_in_test_ds)\n",
        "\n",
        "print('Num examples in train ds {}'.format( train_ds.cardinality()))\n",
        "print('Num examples in test ds {}'.format( test_ds.cardinality()))"
      ],
      "execution_count": null,
      "outputs": [
        {
          "output_type": "stream",
          "text": [
            "Num examples in train ds 14000\n",
            "Num examples in test ds 6000\n"
          ],
          "name": "stdout"
        }
      ]
    },
    {
      "cell_type": "code",
      "metadata": {
        "id": "CsLGanY6Uuuj"
      },
      "source": [
        "BATCH_SIZE = 128\n",
        "IMG_SIZE = (128, 128)\n",
        "IMG_SHAPE = IMG_SIZE + (3,)\n",
        "\n",
        "train_ds = train_ds.batch( BATCH_SIZE )\n",
        "test_ds = test_ds.batch( BATCH_SIZE )"
      ],
      "execution_count": null,
      "outputs": []
    },
    {
      "cell_type": "code",
      "metadata": {
        "colab": {
          "base_uri": "https://localhost:8080/"
        },
        "id": "L1ji5oChUuul",
        "outputId": "f52e6204-6c6d-468a-be6d-023f243846bf"
      },
      "source": [
        "# Create the base model from the pre-trained model MobileNet V2\n",
        "base_model = tf.keras.applications.mobilenet.MobileNet(input_shape=IMG_SHAPE,\n",
        "                                              include_top=False,\n",
        "                                              weights=\"imagenet\"\n",
        "                                              )\n",
        "\n",
        "base_model.trainable = False\n",
        "\n",
        "image_batch, label_batch = next(iter(train_ds))\n",
        "feature_batch = base_model(image_batch)\n",
        "print(feature_batch.shape)\n",
        "\n",
        "base_model.summary()"
      ],
      "execution_count": null,
      "outputs": [
        {
          "output_type": "stream",
          "text": [
            "(128, 4, 4, 1024)\n",
            "Model: \"mobilenet_1.00_128\"\n",
            "_________________________________________________________________\n",
            "Layer (type)                 Output Shape              Param #   \n",
            "=================================================================\n",
            "input_3 (InputLayer)         [(None, 128, 128, 3)]     0         \n",
            "_________________________________________________________________\n",
            "conv1 (Conv2D)               (None, 64, 64, 32)        864       \n",
            "_________________________________________________________________\n",
            "conv1_bn (BatchNormalization (None, 64, 64, 32)        128       \n",
            "_________________________________________________________________\n",
            "conv1_relu (ReLU)            (None, 64, 64, 32)        0         \n",
            "_________________________________________________________________\n",
            "conv_dw_1 (DepthwiseConv2D)  (None, 64, 64, 32)        288       \n",
            "_________________________________________________________________\n",
            "conv_dw_1_bn (BatchNormaliza (None, 64, 64, 32)        128       \n",
            "_________________________________________________________________\n",
            "conv_dw_1_relu (ReLU)        (None, 64, 64, 32)        0         \n",
            "_________________________________________________________________\n",
            "conv_pw_1 (Conv2D)           (None, 64, 64, 64)        2048      \n",
            "_________________________________________________________________\n",
            "conv_pw_1_bn (BatchNormaliza (None, 64, 64, 64)        256       \n",
            "_________________________________________________________________\n",
            "conv_pw_1_relu (ReLU)        (None, 64, 64, 64)        0         \n",
            "_________________________________________________________________\n",
            "conv_pad_2 (ZeroPadding2D)   (None, 65, 65, 64)        0         \n",
            "_________________________________________________________________\n",
            "conv_dw_2 (DepthwiseConv2D)  (None, 32, 32, 64)        576       \n",
            "_________________________________________________________________\n",
            "conv_dw_2_bn (BatchNormaliza (None, 32, 32, 64)        256       \n",
            "_________________________________________________________________\n",
            "conv_dw_2_relu (ReLU)        (None, 32, 32, 64)        0         \n",
            "_________________________________________________________________\n",
            "conv_pw_2 (Conv2D)           (None, 32, 32, 128)       8192      \n",
            "_________________________________________________________________\n",
            "conv_pw_2_bn (BatchNormaliza (None, 32, 32, 128)       512       \n",
            "_________________________________________________________________\n",
            "conv_pw_2_relu (ReLU)        (None, 32, 32, 128)       0         \n",
            "_________________________________________________________________\n",
            "conv_dw_3 (DepthwiseConv2D)  (None, 32, 32, 128)       1152      \n",
            "_________________________________________________________________\n",
            "conv_dw_3_bn (BatchNormaliza (None, 32, 32, 128)       512       \n",
            "_________________________________________________________________\n",
            "conv_dw_3_relu (ReLU)        (None, 32, 32, 128)       0         \n",
            "_________________________________________________________________\n",
            "conv_pw_3 (Conv2D)           (None, 32, 32, 128)       16384     \n",
            "_________________________________________________________________\n",
            "conv_pw_3_bn (BatchNormaliza (None, 32, 32, 128)       512       \n",
            "_________________________________________________________________\n",
            "conv_pw_3_relu (ReLU)        (None, 32, 32, 128)       0         \n",
            "_________________________________________________________________\n",
            "conv_pad_4 (ZeroPadding2D)   (None, 33, 33, 128)       0         \n",
            "_________________________________________________________________\n",
            "conv_dw_4 (DepthwiseConv2D)  (None, 16, 16, 128)       1152      \n",
            "_________________________________________________________________\n",
            "conv_dw_4_bn (BatchNormaliza (None, 16, 16, 128)       512       \n",
            "_________________________________________________________________\n",
            "conv_dw_4_relu (ReLU)        (None, 16, 16, 128)       0         \n",
            "_________________________________________________________________\n",
            "conv_pw_4 (Conv2D)           (None, 16, 16, 256)       32768     \n",
            "_________________________________________________________________\n",
            "conv_pw_4_bn (BatchNormaliza (None, 16, 16, 256)       1024      \n",
            "_________________________________________________________________\n",
            "conv_pw_4_relu (ReLU)        (None, 16, 16, 256)       0         \n",
            "_________________________________________________________________\n",
            "conv_dw_5 (DepthwiseConv2D)  (None, 16, 16, 256)       2304      \n",
            "_________________________________________________________________\n",
            "conv_dw_5_bn (BatchNormaliza (None, 16, 16, 256)       1024      \n",
            "_________________________________________________________________\n",
            "conv_dw_5_relu (ReLU)        (None, 16, 16, 256)       0         \n",
            "_________________________________________________________________\n",
            "conv_pw_5 (Conv2D)           (None, 16, 16, 256)       65536     \n",
            "_________________________________________________________________\n",
            "conv_pw_5_bn (BatchNormaliza (None, 16, 16, 256)       1024      \n",
            "_________________________________________________________________\n",
            "conv_pw_5_relu (ReLU)        (None, 16, 16, 256)       0         \n",
            "_________________________________________________________________\n",
            "conv_pad_6 (ZeroPadding2D)   (None, 17, 17, 256)       0         \n",
            "_________________________________________________________________\n",
            "conv_dw_6 (DepthwiseConv2D)  (None, 8, 8, 256)         2304      \n",
            "_________________________________________________________________\n",
            "conv_dw_6_bn (BatchNormaliza (None, 8, 8, 256)         1024      \n",
            "_________________________________________________________________\n",
            "conv_dw_6_relu (ReLU)        (None, 8, 8, 256)         0         \n",
            "_________________________________________________________________\n",
            "conv_pw_6 (Conv2D)           (None, 8, 8, 512)         131072    \n",
            "_________________________________________________________________\n",
            "conv_pw_6_bn (BatchNormaliza (None, 8, 8, 512)         2048      \n",
            "_________________________________________________________________\n",
            "conv_pw_6_relu (ReLU)        (None, 8, 8, 512)         0         \n",
            "_________________________________________________________________\n",
            "conv_dw_7 (DepthwiseConv2D)  (None, 8, 8, 512)         4608      \n",
            "_________________________________________________________________\n",
            "conv_dw_7_bn (BatchNormaliza (None, 8, 8, 512)         2048      \n",
            "_________________________________________________________________\n",
            "conv_dw_7_relu (ReLU)        (None, 8, 8, 512)         0         \n",
            "_________________________________________________________________\n",
            "conv_pw_7 (Conv2D)           (None, 8, 8, 512)         262144    \n",
            "_________________________________________________________________\n",
            "conv_pw_7_bn (BatchNormaliza (None, 8, 8, 512)         2048      \n",
            "_________________________________________________________________\n",
            "conv_pw_7_relu (ReLU)        (None, 8, 8, 512)         0         \n",
            "_________________________________________________________________\n",
            "conv_dw_8 (DepthwiseConv2D)  (None, 8, 8, 512)         4608      \n",
            "_________________________________________________________________\n",
            "conv_dw_8_bn (BatchNormaliza (None, 8, 8, 512)         2048      \n",
            "_________________________________________________________________\n",
            "conv_dw_8_relu (ReLU)        (None, 8, 8, 512)         0         \n",
            "_________________________________________________________________\n",
            "conv_pw_8 (Conv2D)           (None, 8, 8, 512)         262144    \n",
            "_________________________________________________________________\n",
            "conv_pw_8_bn (BatchNormaliza (None, 8, 8, 512)         2048      \n",
            "_________________________________________________________________\n",
            "conv_pw_8_relu (ReLU)        (None, 8, 8, 512)         0         \n",
            "_________________________________________________________________\n",
            "conv_dw_9 (DepthwiseConv2D)  (None, 8, 8, 512)         4608      \n",
            "_________________________________________________________________\n",
            "conv_dw_9_bn (BatchNormaliza (None, 8, 8, 512)         2048      \n",
            "_________________________________________________________________\n",
            "conv_dw_9_relu (ReLU)        (None, 8, 8, 512)         0         \n",
            "_________________________________________________________________\n",
            "conv_pw_9 (Conv2D)           (None, 8, 8, 512)         262144    \n",
            "_________________________________________________________________\n",
            "conv_pw_9_bn (BatchNormaliza (None, 8, 8, 512)         2048      \n",
            "_________________________________________________________________\n",
            "conv_pw_9_relu (ReLU)        (None, 8, 8, 512)         0         \n",
            "_________________________________________________________________\n",
            "conv_dw_10 (DepthwiseConv2D) (None, 8, 8, 512)         4608      \n",
            "_________________________________________________________________\n",
            "conv_dw_10_bn (BatchNormaliz (None, 8, 8, 512)         2048      \n",
            "_________________________________________________________________\n",
            "conv_dw_10_relu (ReLU)       (None, 8, 8, 512)         0         \n",
            "_________________________________________________________________\n",
            "conv_pw_10 (Conv2D)          (None, 8, 8, 512)         262144    \n",
            "_________________________________________________________________\n",
            "conv_pw_10_bn (BatchNormaliz (None, 8, 8, 512)         2048      \n",
            "_________________________________________________________________\n",
            "conv_pw_10_relu (ReLU)       (None, 8, 8, 512)         0         \n",
            "_________________________________________________________________\n",
            "conv_dw_11 (DepthwiseConv2D) (None, 8, 8, 512)         4608      \n",
            "_________________________________________________________________\n",
            "conv_dw_11_bn (BatchNormaliz (None, 8, 8, 512)         2048      \n",
            "_________________________________________________________________\n",
            "conv_dw_11_relu (ReLU)       (None, 8, 8, 512)         0         \n",
            "_________________________________________________________________\n",
            "conv_pw_11 (Conv2D)          (None, 8, 8, 512)         262144    \n",
            "_________________________________________________________________\n",
            "conv_pw_11_bn (BatchNormaliz (None, 8, 8, 512)         2048      \n",
            "_________________________________________________________________\n",
            "conv_pw_11_relu (ReLU)       (None, 8, 8, 512)         0         \n",
            "_________________________________________________________________\n",
            "conv_pad_12 (ZeroPadding2D)  (None, 9, 9, 512)         0         \n",
            "_________________________________________________________________\n",
            "conv_dw_12 (DepthwiseConv2D) (None, 4, 4, 512)         4608      \n",
            "_________________________________________________________________\n",
            "conv_dw_12_bn (BatchNormaliz (None, 4, 4, 512)         2048      \n",
            "_________________________________________________________________\n",
            "conv_dw_12_relu (ReLU)       (None, 4, 4, 512)         0         \n",
            "_________________________________________________________________\n",
            "conv_pw_12 (Conv2D)          (None, 4, 4, 1024)        524288    \n",
            "_________________________________________________________________\n",
            "conv_pw_12_bn (BatchNormaliz (None, 4, 4, 1024)        4096      \n",
            "_________________________________________________________________\n",
            "conv_pw_12_relu (ReLU)       (None, 4, 4, 1024)        0         \n",
            "_________________________________________________________________\n",
            "conv_dw_13 (DepthwiseConv2D) (None, 4, 4, 1024)        9216      \n",
            "_________________________________________________________________\n",
            "conv_dw_13_bn (BatchNormaliz (None, 4, 4, 1024)        4096      \n",
            "_________________________________________________________________\n",
            "conv_dw_13_relu (ReLU)       (None, 4, 4, 1024)        0         \n",
            "_________________________________________________________________\n",
            "conv_pw_13 (Conv2D)          (None, 4, 4, 1024)        1048576   \n",
            "_________________________________________________________________\n",
            "conv_pw_13_bn (BatchNormaliz (None, 4, 4, 1024)        4096      \n",
            "_________________________________________________________________\n",
            "conv_pw_13_relu (ReLU)       (None, 4, 4, 1024)        0         \n",
            "=================================================================\n",
            "Total params: 3,228,864\n",
            "Trainable params: 0\n",
            "Non-trainable params: 3,228,864\n",
            "_________________________________________________________________\n"
          ],
          "name": "stdout"
        }
      ]
    },
    {
      "cell_type": "code",
      "metadata": {
        "colab": {
          "base_uri": "https://localhost:8080/"
        },
        "id": "5XL1iDp7Uuuq",
        "outputId": "f25e3947-7070-4868-8388-5ff56b6d029b"
      },
      "source": [
        "inputs = tf.keras.Input(shape=IMG_SHAPE)\n",
        "x = tf.keras.applications.mobilenet.preprocess_input(inputs)\n",
        "x = base_model(x, training=False)\n",
        "x = tf.keras.layers.GlobalAveragePooling2D()(x)\n",
        "x = tf.keras.layers.Dropout(0.2)(x)\n",
        "# outputs = tf.keras.layers.Dense(1)(x)\n",
        "outputs = tf.keras.layers.Dense( 2 , activation='softmax' )( x )\n",
        "model = tf.keras.Model(inputs, outputs)\n",
        "model.summary()"
      ],
      "execution_count": null,
      "outputs": [
        {
          "output_type": "stream",
          "text": [
            "Model: \"model_1\"\n",
            "_________________________________________________________________\n",
            "Layer (type)                 Output Shape              Param #   \n",
            "=================================================================\n",
            "input_4 (InputLayer)         [(None, 128, 128, 3)]     0         \n",
            "_________________________________________________________________\n",
            "tf.math.truediv_1 (TFOpLambd (None, 128, 128, 3)       0         \n",
            "_________________________________________________________________\n",
            "tf.math.subtract_1 (TFOpLamb (None, 128, 128, 3)       0         \n",
            "_________________________________________________________________\n",
            "mobilenet_1.00_128 (Function (None, 4, 4, 1024)        3228864   \n",
            "_________________________________________________________________\n",
            "global_average_pooling2d_1 ( (None, 1024)              0         \n",
            "_________________________________________________________________\n",
            "dropout_1 (Dropout)          (None, 1024)              0         \n",
            "_________________________________________________________________\n",
            "dense_1 (Dense)              (None, 2)                 2050      \n",
            "=================================================================\n",
            "Total params: 3,230,914\n",
            "Trainable params: 2,050\n",
            "Non-trainable params: 3,228,864\n",
            "_________________________________________________________________\n"
          ],
          "name": "stdout"
        }
      ]
    },
    {
      "cell_type": "code",
      "metadata": {
        "id": "lPmG7WknY1jx"
      },
      "source": [
        "# Init ModelCheckpoint callback\n",
        "save_dir_ = 'mobilenetv1_gender'  \n",
        "save_dir = save_dir_ + '/{epoch:02d}-{val_accuracy:.2f}.h5'\n",
        "checkpoint_callback = tf.keras.callbacks.ModelCheckpoint( \n",
        "    save_dir , \n",
        "    save_best_only=True , \n",
        "    monitor='val_accuracy' , \n",
        "    mode='max', \n",
        ")\n",
        "\n",
        "tb_log_name = 'mobilenetv1_gender'\n",
        "# Init TensorBoard Callback\n",
        "logdir = os.path.join( \"tb_logs\" , tb_log_name )\n",
        "tensorboard_callback = tf.keras.callbacks.TensorBoard( logdir )\n",
        "\n",
        "# Init Early Stopping callback\n",
        "early_stopping_callback = tf.keras.callbacks.EarlyStopping( monitor='val_accuracy' , patience=5 )"
      ],
      "execution_count": null,
      "outputs": []
    },
    {
      "cell_type": "code",
      "metadata": {
        "colab": {
          "base_uri": "https://localhost:8080/"
        },
        "id": "HDU3P17AUuuw",
        "outputId": "ba6beae5-f160-434d-ea8f-205343e3c57f"
      },
      "source": [
        "# warm up\n",
        "\n",
        "num_epochs = 1\n",
        "learning_rate = 0.001\n",
        "\n",
        "model.compile( \n",
        "    loss=tf.keras.losses.categorical_crossentropy ,\n",
        "    optimizer = tf.keras.optimizers.Adam( learning_rate ) , \n",
        "    metrics=[ 'accuracy' ]\n",
        ")\n",
        "\n",
        "model.fit( \n",
        "    train_ds, \n",
        "    epochs=num_epochs,  \n",
        "    validation_data=test_ds \n",
        "    # callbacks=[ checkpoint_callback , tensorboard_callback , early_stopping_callback ]\n",
        ")"
      ],
      "execution_count": null,
      "outputs": [
        {
          "output_type": "stream",
          "text": [
            "110/110 [==============================] - 26s 193ms/step - loss: 0.5390 - accuracy: 0.7434 - val_loss: 0.3672 - val_accuracy: 0.8388\n"
          ],
          "name": "stdout"
        },
        {
          "output_type": "execute_result",
          "data": {
            "text/plain": [
              "<tensorflow.python.keras.callbacks.History at 0x7fbb0204e7d0>"
            ]
          },
          "metadata": {
            "tags": []
          },
          "execution_count": 26
        }
      ]
    },
    {
      "cell_type": "code",
      "metadata": {
        "colab": {
          "base_uri": "https://localhost:8080/"
        },
        "id": "01Teocm7Uuuz",
        "outputId": "09e0ee73-938e-4740-c268-c1a9b28e0244"
      },
      "source": [
        "# fine-tuning\n",
        "num_epochs = 30\n",
        "learning_rate = 0.0001\n",
        "base_model.trainable = True # unfreeze the mobilenet backbone\n",
        "\n",
        "model.compile( \n",
        "    loss=tf.keras.losses.categorical_crossentropy ,\n",
        "    optimizer = tf.keras.optimizers.Adam( learning_rate ) , \n",
        "    metrics=[ 'accuracy' ]\n",
        ")\n",
        "\n",
        "model.fit( \n",
        "    train_ds, \n",
        "    epochs=num_epochs,  \n",
        "    validation_data=test_ds,\n",
        "    callbacks=[ checkpoint_callback , tensorboard_callback , early_stopping_callback ]\n",
        ")"
      ],
      "execution_count": null,
      "outputs": [
        {
          "output_type": "stream",
          "text": [
            "Epoch 1/30\n",
            "110/110 [==============================] - 47s 384ms/step - loss: 0.4401 - accuracy: 0.8161 - val_loss: 0.3105 - val_accuracy: 0.8610\n",
            "Epoch 2/30\n",
            "110/110 [==============================] - 45s 376ms/step - loss: 0.2692 - accuracy: 0.8868 - val_loss: 0.2331 - val_accuracy: 0.9080\n",
            "Epoch 3/30\n",
            "110/110 [==============================] - 45s 376ms/step - loss: 0.2342 - accuracy: 0.9018 - val_loss: 0.2043 - val_accuracy: 0.9202\n",
            "Epoch 4/30\n",
            "110/110 [==============================] - 45s 382ms/step - loss: 0.1996 - accuracy: 0.9196 - val_loss: 0.1823 - val_accuracy: 0.9253\n",
            "Epoch 5/30\n",
            "110/110 [==============================] - 45s 378ms/step - loss: 0.1919 - accuracy: 0.9186 - val_loss: 0.1499 - val_accuracy: 0.9415\n",
            "Epoch 6/30\n",
            "110/110 [==============================] - 45s 380ms/step - loss: 0.1845 - accuracy: 0.9280 - val_loss: 0.1424 - val_accuracy: 0.9437\n",
            "Epoch 7/30\n",
            "110/110 [==============================] - 45s 380ms/step - loss: 0.1644 - accuracy: 0.9342 - val_loss: 0.1327 - val_accuracy: 0.9517\n",
            "Epoch 8/30\n",
            "110/110 [==============================] - 44s 371ms/step - loss: 0.1546 - accuracy: 0.9406 - val_loss: 0.1292 - val_accuracy: 0.9525\n",
            "Epoch 9/30\n",
            "110/110 [==============================] - 45s 380ms/step - loss: 0.1450 - accuracy: 0.9446 - val_loss: 0.1263 - val_accuracy: 0.9538\n",
            "Epoch 10/30\n",
            "110/110 [==============================] - 45s 379ms/step - loss: 0.1389 - accuracy: 0.9462 - val_loss: 0.1111 - val_accuracy: 0.9600\n",
            "Epoch 11/30\n",
            "110/110 [==============================] - 45s 381ms/step - loss: 0.1234 - accuracy: 0.9544 - val_loss: 0.1076 - val_accuracy: 0.9593\n",
            "Epoch 12/30\n",
            "110/110 [==============================] - 45s 382ms/step - loss: 0.1344 - accuracy: 0.9499 - val_loss: 0.1015 - val_accuracy: 0.9685\n",
            "Epoch 13/30\n",
            "110/110 [==============================] - 45s 381ms/step - loss: 0.1161 - accuracy: 0.9569 - val_loss: 0.1038 - val_accuracy: 0.9603\n",
            "Epoch 14/30\n",
            "110/110 [==============================] - 45s 384ms/step - loss: 0.1013 - accuracy: 0.9639 - val_loss: 0.0871 - val_accuracy: 0.9715\n",
            "Epoch 15/30\n",
            "110/110 [==============================] - 45s 381ms/step - loss: 0.1036 - accuracy: 0.9612 - val_loss: 0.0806 - val_accuracy: 0.9730\n",
            "Epoch 16/30\n",
            "110/110 [==============================] - 46s 385ms/step - loss: 0.0955 - accuracy: 0.9649 - val_loss: 0.0793 - val_accuracy: 0.9740\n",
            "Epoch 17/30\n",
            "110/110 [==============================] - 45s 379ms/step - loss: 0.0803 - accuracy: 0.9732 - val_loss: 0.0668 - val_accuracy: 0.9778\n",
            "Epoch 18/30\n",
            "110/110 [==============================] - 45s 381ms/step - loss: 0.0807 - accuracy: 0.9720 - val_loss: 0.0568 - val_accuracy: 0.9832\n",
            "Epoch 19/30\n",
            "110/110 [==============================] - 45s 380ms/step - loss: 0.0685 - accuracy: 0.9764 - val_loss: 0.0819 - val_accuracy: 0.9688\n",
            "Epoch 20/30\n",
            "110/110 [==============================] - 45s 382ms/step - loss: 0.0759 - accuracy: 0.9736 - val_loss: 0.0458 - val_accuracy: 0.9857\n",
            "Epoch 21/30\n",
            "110/110 [==============================] - 45s 381ms/step - loss: 0.0623 - accuracy: 0.9781 - val_loss: 0.0522 - val_accuracy: 0.9840\n",
            "Epoch 22/30\n",
            "110/110 [==============================] - 46s 386ms/step - loss: 0.0754 - accuracy: 0.9739 - val_loss: 0.0529 - val_accuracy: 0.9817\n",
            "Epoch 23/30\n",
            "110/110 [==============================] - 45s 378ms/step - loss: 0.0637 - accuracy: 0.9777 - val_loss: 0.0421 - val_accuracy: 0.9862\n",
            "Epoch 24/30\n",
            "110/110 [==============================] - 45s 382ms/step - loss: 0.0595 - accuracy: 0.9802 - val_loss: 0.0556 - val_accuracy: 0.9792\n",
            "Epoch 25/30\n",
            "110/110 [==============================] - 45s 379ms/step - loss: 0.0591 - accuracy: 0.9782 - val_loss: 0.0404 - val_accuracy: 0.9883\n",
            "Epoch 26/30\n",
            "110/110 [==============================] - 45s 379ms/step - loss: 0.0534 - accuracy: 0.9811 - val_loss: 0.0428 - val_accuracy: 0.9852\n",
            "Epoch 27/30\n",
            "110/110 [==============================] - 45s 382ms/step - loss: 0.0590 - accuracy: 0.9791 - val_loss: 0.0700 - val_accuracy: 0.9740\n",
            "Epoch 28/30\n",
            "110/110 [==============================] - 46s 385ms/step - loss: 0.0455 - accuracy: 0.9845 - val_loss: 0.0383 - val_accuracy: 0.9880\n",
            "Epoch 29/30\n",
            "110/110 [==============================] - 45s 378ms/step - loss: 0.0394 - accuracy: 0.9867 - val_loss: 0.0336 - val_accuracy: 0.9897\n",
            "Epoch 30/30\n",
            "110/110 [==============================] - 45s 380ms/step - loss: 0.0465 - accuracy: 0.9835 - val_loss: 0.0422 - val_accuracy: 0.9842\n"
          ],
          "name": "stdout"
        },
        {
          "output_type": "execute_result",
          "data": {
            "text/plain": [
              "<tensorflow.python.keras.callbacks.History at 0x7fb872453350>"
            ]
          },
          "metadata": {
            "tags": []
          },
          "execution_count": 27
        }
      ]
    },
    {
      "cell_type": "code",
      "metadata": {
        "colab": {
          "base_uri": "https://localhost:8080/"
        },
        "id": "4200rTlflN66",
        "outputId": "5cb0ec00-256d-4cbd-fc80-019022beb050"
      },
      "source": [
        "!pwd"
      ],
      "execution_count": null,
      "outputs": [
        {
          "output_type": "stream",
          "text": [
            "/content\n"
          ],
          "name": "stdout"
        }
      ]
    },
    {
      "cell_type": "code",
      "metadata": {
        "colab": {
          "base_uri": "https://localhost:8080/"
        },
        "id": "Aj_DkUAPrqTB",
        "outputId": "ebf1ad6e-f4fb-43ab-d585-8448fd844c12"
      },
      "source": [
        "!ls"
      ],
      "execution_count": null,
      "outputs": [
        {
          "output_type": "stream",
          "text": [
            "data  drive  mobilenetv1_gender  sample_data  tb_logs  UTKFace.zip\n"
          ],
          "name": "stdout"
        }
      ]
    },
    {
      "cell_type": "code",
      "metadata": {
        "id": "sEAgltPsrrng"
      },
      "source": [
        "!cp -R \"/content/mobilenetv1_gender\" \"/content/drive/MyDrive/\""
      ],
      "execution_count": null,
      "outputs": []
    },
    {
      "cell_type": "code",
      "metadata": {
        "id": "-w3KyoY8sPsc"
      },
      "source": [
        "!cp -R \"/content/tb_logs\" \"/content/drive/MyDrive/\""
      ],
      "execution_count": null,
      "outputs": []
    }
  ]
}